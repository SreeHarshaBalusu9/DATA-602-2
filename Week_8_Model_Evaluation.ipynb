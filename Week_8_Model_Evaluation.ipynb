{
  "nbformat": 4,
  "nbformat_minor": 0,
  "metadata": {
    "colab": {
      "name": "Week-8 Model Evaluation.ipynb",
      "provenance": [],
      "collapsed_sections": []
    },
    "kernelspec": {
      "name": "python3",
      "display_name": "Python 3"
    },
    "language_info": {
      "name": "python"
    }
  },
  "cells": [
    {
      "cell_type": "code",
      "metadata": {
        "id": "UuVWa5j40l6A"
      },
      "source": [
        "import pandas as pd\n",
        "import numpy as np"
      ],
      "execution_count": 1,
      "outputs": []
    },
    {
      "cell_type": "code",
      "metadata": {
        "id": "iK-Eo48S0_zP"
      },
      "source": [
        "df=pd.read_csv('/content/pima_indian_data.csv')"
      ],
      "execution_count": 2,
      "outputs": []
    },
    {
      "cell_type": "code",
      "metadata": {
        "colab": {
          "base_uri": "https://localhost:8080/",
          "height": 436
        },
        "id": "gQsBCRJJ1FdC",
        "outputId": "50235dc5-29de-4c8d-dcbb-0a92e7853d19"
      },
      "source": [
        "df"
      ],
      "execution_count": 3,
      "outputs": [
        {
          "output_type": "execute_result",
          "data": {
            "text/html": [
              "<div>\n",
              "<style scoped>\n",
              "    .dataframe tbody tr th:only-of-type {\n",
              "        vertical-align: middle;\n",
              "    }\n",
              "\n",
              "    .dataframe tbody tr th {\n",
              "        vertical-align: top;\n",
              "    }\n",
              "\n",
              "    .dataframe thead th {\n",
              "        text-align: right;\n",
              "    }\n",
              "</style>\n",
              "<table border=\"1\" class=\"dataframe\">\n",
              "  <thead>\n",
              "    <tr style=\"text-align: right;\">\n",
              "      <th></th>\n",
              "      <th>Number  of times pregnant</th>\n",
              "      <th>Plasma glucose</th>\n",
              "      <th>Diastolic blood pressure</th>\n",
              "      <th>Triceps skinfold thickness</th>\n",
              "      <th>serum insulin</th>\n",
              "      <th>Body mass index</th>\n",
              "      <th>Diabetes pedigree function</th>\n",
              "      <th>Age</th>\n",
              "      <th>Class</th>\n",
              "    </tr>\n",
              "  </thead>\n",
              "  <tbody>\n",
              "    <tr>\n",
              "      <th>0</th>\n",
              "      <td>6</td>\n",
              "      <td>148</td>\n",
              "      <td>72</td>\n",
              "      <td>35</td>\n",
              "      <td>0</td>\n",
              "      <td>33.6</td>\n",
              "      <td>0.627</td>\n",
              "      <td>50</td>\n",
              "      <td>1</td>\n",
              "    </tr>\n",
              "    <tr>\n",
              "      <th>1</th>\n",
              "      <td>1</td>\n",
              "      <td>85</td>\n",
              "      <td>66</td>\n",
              "      <td>29</td>\n",
              "      <td>0</td>\n",
              "      <td>26.6</td>\n",
              "      <td>0.351</td>\n",
              "      <td>31</td>\n",
              "      <td>0</td>\n",
              "    </tr>\n",
              "    <tr>\n",
              "      <th>2</th>\n",
              "      <td>8</td>\n",
              "      <td>183</td>\n",
              "      <td>64</td>\n",
              "      <td>0</td>\n",
              "      <td>0</td>\n",
              "      <td>23.3</td>\n",
              "      <td>0.672</td>\n",
              "      <td>32</td>\n",
              "      <td>1</td>\n",
              "    </tr>\n",
              "    <tr>\n",
              "      <th>3</th>\n",
              "      <td>1</td>\n",
              "      <td>89</td>\n",
              "      <td>66</td>\n",
              "      <td>23</td>\n",
              "      <td>94</td>\n",
              "      <td>28.1</td>\n",
              "      <td>0.167</td>\n",
              "      <td>21</td>\n",
              "      <td>0</td>\n",
              "    </tr>\n",
              "    <tr>\n",
              "      <th>4</th>\n",
              "      <td>0</td>\n",
              "      <td>137</td>\n",
              "      <td>40</td>\n",
              "      <td>35</td>\n",
              "      <td>168</td>\n",
              "      <td>43.1</td>\n",
              "      <td>2.288</td>\n",
              "      <td>33</td>\n",
              "      <td>1</td>\n",
              "    </tr>\n",
              "    <tr>\n",
              "      <th>...</th>\n",
              "      <td>...</td>\n",
              "      <td>...</td>\n",
              "      <td>...</td>\n",
              "      <td>...</td>\n",
              "      <td>...</td>\n",
              "      <td>...</td>\n",
              "      <td>...</td>\n",
              "      <td>...</td>\n",
              "      <td>...</td>\n",
              "    </tr>\n",
              "    <tr>\n",
              "      <th>763</th>\n",
              "      <td>10</td>\n",
              "      <td>101</td>\n",
              "      <td>76</td>\n",
              "      <td>48</td>\n",
              "      <td>180</td>\n",
              "      <td>32.9</td>\n",
              "      <td>0.171</td>\n",
              "      <td>63</td>\n",
              "      <td>0</td>\n",
              "    </tr>\n",
              "    <tr>\n",
              "      <th>764</th>\n",
              "      <td>2</td>\n",
              "      <td>122</td>\n",
              "      <td>70</td>\n",
              "      <td>27</td>\n",
              "      <td>0</td>\n",
              "      <td>36.8</td>\n",
              "      <td>0.340</td>\n",
              "      <td>27</td>\n",
              "      <td>0</td>\n",
              "    </tr>\n",
              "    <tr>\n",
              "      <th>765</th>\n",
              "      <td>5</td>\n",
              "      <td>121</td>\n",
              "      <td>72</td>\n",
              "      <td>23</td>\n",
              "      <td>112</td>\n",
              "      <td>26.2</td>\n",
              "      <td>0.245</td>\n",
              "      <td>30</td>\n",
              "      <td>0</td>\n",
              "    </tr>\n",
              "    <tr>\n",
              "      <th>766</th>\n",
              "      <td>1</td>\n",
              "      <td>126</td>\n",
              "      <td>60</td>\n",
              "      <td>0</td>\n",
              "      <td>0</td>\n",
              "      <td>30.1</td>\n",
              "      <td>0.349</td>\n",
              "      <td>47</td>\n",
              "      <td>1</td>\n",
              "    </tr>\n",
              "    <tr>\n",
              "      <th>767</th>\n",
              "      <td>1</td>\n",
              "      <td>93</td>\n",
              "      <td>70</td>\n",
              "      <td>31</td>\n",
              "      <td>0</td>\n",
              "      <td>30.4</td>\n",
              "      <td>0.315</td>\n",
              "      <td>23</td>\n",
              "      <td>0</td>\n",
              "    </tr>\n",
              "  </tbody>\n",
              "</table>\n",
              "<p>768 rows × 9 columns</p>\n",
              "</div>"
            ],
            "text/plain": [
              "     Number  of times pregnant  Plasma glucose  ...  Age  Class\n",
              "0                            6             148  ...   50      1\n",
              "1                            1              85  ...   31      0\n",
              "2                            8             183  ...   32      1\n",
              "3                            1              89  ...   21      0\n",
              "4                            0             137  ...   33      1\n",
              "..                         ...             ...  ...  ...    ...\n",
              "763                         10             101  ...   63      0\n",
              "764                          2             122  ...   27      0\n",
              "765                          5             121  ...   30      0\n",
              "766                          1             126  ...   47      1\n",
              "767                          1              93  ...   23      0\n",
              "\n",
              "[768 rows x 9 columns]"
            ]
          },
          "metadata": {},
          "execution_count": 3
        }
      ]
    },
    {
      "cell_type": "markdown",
      "metadata": {
        "id": "CIENeJhnQRw5"
      },
      "source": [
        "##**Exploring the data**"
      ]
    },
    {
      "cell_type": "code",
      "metadata": {
        "colab": {
          "base_uri": "https://localhost:8080/",
          "height": 328
        },
        "id": "D-FhHd9n1pMa",
        "outputId": "e59a4213-d4e5-45f8-bf45-0760b5d0d1be"
      },
      "source": [
        "df.describe().T"
      ],
      "execution_count": 4,
      "outputs": [
        {
          "output_type": "execute_result",
          "data": {
            "text/html": [
              "<div>\n",
              "<style scoped>\n",
              "    .dataframe tbody tr th:only-of-type {\n",
              "        vertical-align: middle;\n",
              "    }\n",
              "\n",
              "    .dataframe tbody tr th {\n",
              "        vertical-align: top;\n",
              "    }\n",
              "\n",
              "    .dataframe thead th {\n",
              "        text-align: right;\n",
              "    }\n",
              "</style>\n",
              "<table border=\"1\" class=\"dataframe\">\n",
              "  <thead>\n",
              "    <tr style=\"text-align: right;\">\n",
              "      <th></th>\n",
              "      <th>count</th>\n",
              "      <th>mean</th>\n",
              "      <th>std</th>\n",
              "      <th>min</th>\n",
              "      <th>25%</th>\n",
              "      <th>50%</th>\n",
              "      <th>75%</th>\n",
              "      <th>max</th>\n",
              "    </tr>\n",
              "  </thead>\n",
              "  <tbody>\n",
              "    <tr>\n",
              "      <th>Number  of times pregnant</th>\n",
              "      <td>768.0</td>\n",
              "      <td>3.845052</td>\n",
              "      <td>3.369578</td>\n",
              "      <td>0.000</td>\n",
              "      <td>1.00000</td>\n",
              "      <td>3.0000</td>\n",
              "      <td>6.00000</td>\n",
              "      <td>17.00</td>\n",
              "    </tr>\n",
              "    <tr>\n",
              "      <th>Plasma glucose</th>\n",
              "      <td>768.0</td>\n",
              "      <td>120.894531</td>\n",
              "      <td>31.972618</td>\n",
              "      <td>0.000</td>\n",
              "      <td>99.00000</td>\n",
              "      <td>117.0000</td>\n",
              "      <td>140.25000</td>\n",
              "      <td>199.00</td>\n",
              "    </tr>\n",
              "    <tr>\n",
              "      <th>Diastolic blood pressure</th>\n",
              "      <td>768.0</td>\n",
              "      <td>69.105469</td>\n",
              "      <td>19.355807</td>\n",
              "      <td>0.000</td>\n",
              "      <td>62.00000</td>\n",
              "      <td>72.0000</td>\n",
              "      <td>80.00000</td>\n",
              "      <td>122.00</td>\n",
              "    </tr>\n",
              "    <tr>\n",
              "      <th>Triceps skinfold thickness</th>\n",
              "      <td>768.0</td>\n",
              "      <td>20.536458</td>\n",
              "      <td>15.952218</td>\n",
              "      <td>0.000</td>\n",
              "      <td>0.00000</td>\n",
              "      <td>23.0000</td>\n",
              "      <td>32.00000</td>\n",
              "      <td>99.00</td>\n",
              "    </tr>\n",
              "    <tr>\n",
              "      <th>serum insulin</th>\n",
              "      <td>768.0</td>\n",
              "      <td>79.799479</td>\n",
              "      <td>115.244002</td>\n",
              "      <td>0.000</td>\n",
              "      <td>0.00000</td>\n",
              "      <td>30.5000</td>\n",
              "      <td>127.25000</td>\n",
              "      <td>846.00</td>\n",
              "    </tr>\n",
              "    <tr>\n",
              "      <th>Body mass index</th>\n",
              "      <td>768.0</td>\n",
              "      <td>31.992578</td>\n",
              "      <td>7.884160</td>\n",
              "      <td>0.000</td>\n",
              "      <td>27.30000</td>\n",
              "      <td>32.0000</td>\n",
              "      <td>36.60000</td>\n",
              "      <td>67.10</td>\n",
              "    </tr>\n",
              "    <tr>\n",
              "      <th>Diabetes pedigree function</th>\n",
              "      <td>768.0</td>\n",
              "      <td>0.471876</td>\n",
              "      <td>0.331329</td>\n",
              "      <td>0.078</td>\n",
              "      <td>0.24375</td>\n",
              "      <td>0.3725</td>\n",
              "      <td>0.62625</td>\n",
              "      <td>2.42</td>\n",
              "    </tr>\n",
              "    <tr>\n",
              "      <th>Age</th>\n",
              "      <td>768.0</td>\n",
              "      <td>33.240885</td>\n",
              "      <td>11.760232</td>\n",
              "      <td>21.000</td>\n",
              "      <td>24.00000</td>\n",
              "      <td>29.0000</td>\n",
              "      <td>41.00000</td>\n",
              "      <td>81.00</td>\n",
              "    </tr>\n",
              "    <tr>\n",
              "      <th>Class</th>\n",
              "      <td>768.0</td>\n",
              "      <td>0.348958</td>\n",
              "      <td>0.476951</td>\n",
              "      <td>0.000</td>\n",
              "      <td>0.00000</td>\n",
              "      <td>0.0000</td>\n",
              "      <td>1.00000</td>\n",
              "      <td>1.00</td>\n",
              "    </tr>\n",
              "  </tbody>\n",
              "</table>\n",
              "</div>"
            ],
            "text/plain": [
              "                            count        mean  ...        75%     max\n",
              "Number  of times pregnant   768.0    3.845052  ...    6.00000   17.00\n",
              "Plasma glucose              768.0  120.894531  ...  140.25000  199.00\n",
              "Diastolic blood pressure    768.0   69.105469  ...   80.00000  122.00\n",
              "Triceps skinfold thickness  768.0   20.536458  ...   32.00000   99.00\n",
              "serum insulin               768.0   79.799479  ...  127.25000  846.00\n",
              "Body mass index             768.0   31.992578  ...   36.60000   67.10\n",
              "Diabetes pedigree function  768.0    0.471876  ...    0.62625    2.42\n",
              "Age                         768.0   33.240885  ...   41.00000   81.00\n",
              "Class                       768.0    0.348958  ...    1.00000    1.00\n",
              "\n",
              "[9 rows x 8 columns]"
            ]
          },
          "metadata": {},
          "execution_count": 4
        }
      ]
    },
    {
      "cell_type": "code",
      "metadata": {
        "colab": {
          "base_uri": "https://localhost:8080/"
        },
        "id": "RLp1pbq810Up",
        "outputId": "a88ec76a-5e94-4b83-fe0c-2e86df7fbbed"
      },
      "source": [
        "df.isnull().sum()"
      ],
      "execution_count": 5,
      "outputs": [
        {
          "output_type": "execute_result",
          "data": {
            "text/plain": [
              "Number  of times pregnant     0\n",
              "Plasma glucose                0\n",
              "Diastolic blood pressure      0\n",
              "Triceps skinfold thickness    0\n",
              "serum insulin                 0\n",
              "Body mass index               0\n",
              "Diabetes pedigree function    0\n",
              "Age                           0\n",
              "Class                         0\n",
              "dtype: int64"
            ]
          },
          "metadata": {},
          "execution_count": 5
        }
      ]
    },
    {
      "cell_type": "code",
      "metadata": {
        "colab": {
          "base_uri": "https://localhost:8080/",
          "height": 662
        },
        "id": "I8hwTXMP4FyO",
        "outputId": "0d053ae7-2584-40c9-8024-fb4387dad0a3"
      },
      "source": [
        "import matplotlib.pyplot as plt\n",
        "%matplotlib inline\n",
        "\n",
        "df.hist(figsize=(11,11))\n",
        "plt.show()"
      ],
      "execution_count": 6,
      "outputs": [
        {
          "output_type": "display_data",
          "data": {
            "image/png": "[encoded data removed]",
            "text/plain": [
              "<Figure size 792x792 with 9 Axes>"
            ]
          },
          "metadata": {
            "needs_background": "light"
          }
        }
      ]
    },
    {
      "cell_type": "code",
      "metadata": {
        "colab": {
          "base_uri": "https://localhost:8080/",
          "height": 238
        },
        "id": "KrlQDLSsleuN",
        "outputId": "1ad1e575-3b1c-4bd4-e0cc-533d5aa0d834"
      },
      "source": [
        "X = df[0:-1]\n",
        "y = df['Class']\n",
        "\n",
        "dataDf = pd.concat([pd.DataFrame(X),pd.DataFrame(y)], axis=1)\n",
        "dataDf.columns = list(X) + ['target']\n",
        "\n",
        "pd.set_option('display.max_columns', 50)\n",
        "dataDf.head()"
      ],
      "execution_count": 7,
      "outputs": [
        {
          "output_type": "execute_result",
          "data": {
            "text/html": [
              "<div>\n",
              "<style scoped>\n",
              "    .dataframe tbody tr th:only-of-type {\n",
              "        vertical-align: middle;\n",
              "    }\n",
              "\n",
              "    .dataframe tbody tr th {\n",
              "        vertical-align: top;\n",
              "    }\n",
              "\n",
              "    .dataframe thead th {\n",
              "        text-align: right;\n",
              "    }\n",
              "</style>\n",
              "<table border=\"1\" class=\"dataframe\">\n",
              "  <thead>\n",
              "    <tr style=\"text-align: right;\">\n",
              "      <th></th>\n",
              "      <th>Number  of times pregnant</th>\n",
              "      <th>Plasma glucose</th>\n",
              "      <th>Diastolic blood pressure</th>\n",
              "      <th>Triceps skinfold thickness</th>\n",
              "      <th>serum insulin</th>\n",
              "      <th>Body mass index</th>\n",
              "      <th>Diabetes pedigree function</th>\n",
              "      <th>Age</th>\n",
              "      <th>Class</th>\n",
              "      <th>target</th>\n",
              "    </tr>\n",
              "  </thead>\n",
              "  <tbody>\n",
              "    <tr>\n",
              "      <th>0</th>\n",
              "      <td>6.0</td>\n",
              "      <td>148.0</td>\n",
              "      <td>72.0</td>\n",
              "      <td>35.0</td>\n",
              "      <td>0.0</td>\n",
              "      <td>33.6</td>\n",
              "      <td>0.627</td>\n",
              "      <td>50.0</td>\n",
              "      <td>1.0</td>\n",
              "      <td>1</td>\n",
              "    </tr>\n",
              "    <tr>\n",
              "      <th>1</th>\n",
              "      <td>1.0</td>\n",
              "      <td>85.0</td>\n",
              "      <td>66.0</td>\n",
              "      <td>29.0</td>\n",
              "      <td>0.0</td>\n",
              "      <td>26.6</td>\n",
              "      <td>0.351</td>\n",
              "      <td>31.0</td>\n",
              "      <td>0.0</td>\n",
              "      <td>0</td>\n",
              "    </tr>\n",
              "    <tr>\n",
              "      <th>2</th>\n",
              "      <td>8.0</td>\n",
              "      <td>183.0</td>\n",
              "      <td>64.0</td>\n",
              "      <td>0.0</td>\n",
              "      <td>0.0</td>\n",
              "      <td>23.3</td>\n",
              "      <td>0.672</td>\n",
              "      <td>32.0</td>\n",
              "      <td>1.0</td>\n",
              "      <td>1</td>\n",
              "    </tr>\n",
              "    <tr>\n",
              "      <th>3</th>\n",
              "      <td>1.0</td>\n",
              "      <td>89.0</td>\n",
              "      <td>66.0</td>\n",
              "      <td>23.0</td>\n",
              "      <td>94.0</td>\n",
              "      <td>28.1</td>\n",
              "      <td>0.167</td>\n",
              "      <td>21.0</td>\n",
              "      <td>0.0</td>\n",
              "      <td>0</td>\n",
              "    </tr>\n",
              "    <tr>\n",
              "      <th>4</th>\n",
              "      <td>0.0</td>\n",
              "      <td>137.0</td>\n",
              "      <td>40.0</td>\n",
              "      <td>35.0</td>\n",
              "      <td>168.0</td>\n",
              "      <td>43.1</td>\n",
              "      <td>2.288</td>\n",
              "      <td>33.0</td>\n",
              "      <td>1.0</td>\n",
              "      <td>1</td>\n",
              "    </tr>\n",
              "  </tbody>\n",
              "</table>\n",
              "</div>"
            ],
            "text/plain": [
              "   Number  of times pregnant  Plasma glucose  Diastolic blood pressure  \\\n",
              "0                        6.0           148.0                      72.0   \n",
              "1                        1.0            85.0                      66.0   \n",
              "2                        8.0           183.0                      64.0   \n",
              "3                        1.0            89.0                      66.0   \n",
              "4                        0.0           137.0                      40.0   \n",
              "\n",
              "   Triceps skinfold thickness  serum insulin  Body mass index  \\\n",
              "0                        35.0            0.0             33.6   \n",
              "1                        29.0            0.0             26.6   \n",
              "2                         0.0            0.0             23.3   \n",
              "3                        23.0           94.0             28.1   \n",
              "4                        35.0          168.0             43.1   \n",
              "\n",
              "   Diabetes pedigree function   Age  Class  target  \n",
              "0                       0.627  50.0    1.0       1  \n",
              "1                       0.351  31.0    0.0       0  \n",
              "2                       0.672  32.0    1.0       1  \n",
              "3                       0.167  21.0    0.0       0  \n",
              "4                       2.288  33.0    1.0       1  "
            ]
          },
          "metadata": {},
          "execution_count": 7
        }
      ]
    },
    {
      "cell_type": "markdown",
      "metadata": {
        "id": "ta91uOJyEco_"
      },
      "source": [
        "##**Splitting the data into Train and Test sets**"
      ]
    },
    {
      "cell_type": "code",
      "metadata": {
        "id": "1gBvE1AbnXz3"
      },
      "source": [
        "from sklearn.model_selection import train_test_split\n",
        "def generate_splits():\n",
        "    y = df['Class']\n",
        "    X = df[[x for x in df.columns if x != 'Class']]\n",
        "\n",
        "    return train_test_split(X, y, test_size=0.15)\n",
        "X_train, X_test, y_train, y_test = generate_splits()"
      ],
      "execution_count": 8,
      "outputs": []
    },
    {
      "cell_type": "code",
      "metadata": {
        "colab": {
          "base_uri": "https://localhost:8080/"
        },
        "id": "pfgB11XUp1OS",
        "outputId": "f85b3929-dd47-499f-e16e-726af4e841f5"
      },
      "source": [
        "print(f'Training sample: {X_train.shape[0]:,}')\n",
        "print(f'Test sample: {X_test.shape[0]:,}')"
      ],
      "execution_count": 9,
      "outputs": [
        {
          "output_type": "stream",
          "name": "stdout",
          "text": [
            "Training sample: 652\n",
            "Test sample: 116\n"
          ]
        }
      ]
    },
    {
      "cell_type": "markdown",
      "metadata": {
        "id": "tACzA7dbElZI"
      },
      "source": [
        "#**Creating a Pipeline**"
      ]
    },
    {
      "cell_type": "code",
      "metadata": {
        "colab": {
          "base_uri": "https://localhost:8080/"
        },
        "id": "39IIVwdIqFCh",
        "outputId": "b66e4849-c844-4f24-87a8-efe6431ae87f"
      },
      "source": [
        "from sklearn.pipeline import Pipeline\n",
        "from sklearn.preprocessing import StandardScaler\n",
        "from sklearn.decomposition import PCA\n",
        "from sklearn.linear_model import LogisticRegression\n",
        "\n",
        "def generate_estimates(x, y, comp=5):\n",
        "    \n",
        "    modeling_pipeline = Pipeline([\n",
        "        ('scaling', StandardScaler()),\n",
        "         ('pca', PCA(n_components=5)),\n",
        "         ('model', LogisticRegression(penalty='none'))\n",
        "        ]\n",
        "    )\n",
        "\n",
        "    return modeling_pipeline.fit(x, y)\n",
        "\n",
        "m = generate_estimates(X_train, y_train)\n",
        "m"
      ],
      "execution_count": 10,
      "outputs": [
        {
          "output_type": "execute_result",
          "data": {
            "text/plain": [
              "Pipeline(memory=None,\n",
              "         steps=[('scaling',\n",
              "                 StandardScaler(copy=True, with_mean=True, with_std=True)),\n",
              "                ('pca',\n",
              "                 PCA(copy=True, iterated_power='auto', n_components=5,\n",
              "                     random_state=None, svd_solver='auto', tol=0.0,\n",
              "                     whiten=False)),\n",
              "                ('model',\n",
              "                 LogisticRegression(C=1.0, class_weight=None, dual=False,\n",
              "                                    fit_intercept=True, intercept_scaling=1,\n",
              "                                    l1_ratio=None, max_iter=100,\n",
              "                                    multi_class='auto', n_jobs=None,\n",
              "                                    penalty='none', random_state=None,\n",
              "                                    solver='lbfgs', tol=0.0001, verbose=0,\n",
              "                                    warm_start=False))],\n",
              "         verbose=False)"
            ]
          },
          "metadata": {},
          "execution_count": 10
        }
      ]
    },
    {
      "cell_type": "code",
      "metadata": {
        "id": "SGVNefgUrfap"
      },
      "source": [
        "y_hat = m.predict(X_test)"
      ],
      "execution_count": 11,
      "outputs": []
    },
    {
      "cell_type": "markdown",
      "metadata": {
        "id": "U3LNHWQeFmw3"
      },
      "source": [
        "#**Classification Report**"
      ]
    },
    {
      "cell_type": "code",
      "metadata": {
        "colab": {
          "base_uri": "https://localhost:8080/"
        },
        "id": "FOk86l-Eyp89",
        "outputId": "3375d9f8-d898-4d17-895b-7e6ccb0862b6"
      },
      "source": [
        "from sklearn.metrics import classification_report\n",
        "print(classification_report(y_test, y_hat))"
      ],
      "execution_count": 12,
      "outputs": [
        {
          "output_type": "stream",
          "name": "stdout",
          "text": [
            "              precision    recall  f1-score   support\n",
            "\n",
            "           0       0.75      0.89      0.81        76\n",
            "           1       0.68      0.42      0.52        40\n",
            "\n",
            "    accuracy                           0.73       116\n",
            "   macro avg       0.71      0.66      0.67       116\n",
            "weighted avg       0.72      0.73      0.71       116\n",
            "\n"
          ]
        }
      ]
    },
    {
      "cell_type": "markdown",
      "metadata": {
        "id": "TlmBrcwtkmNd"
      },
      "source": [
        "*As we see from the precision and the recall scores the Precision, recall and f1-score for the 0's tend to be good where as the for the 1's tend to less and suprising very less for the recall and the f1scores are less than 0.5 which implies to not a good score. These decreases the overall score of accuracy because of the 1's.*"
      ]
    },
    {
      "cell_type": "markdown",
      "metadata": {
        "id": "Y8PZ2T2mFv5z"
      },
      "source": [
        "##**Predicting the probability of a binary outcome**"
      ]
    },
    {
      "cell_type": "code",
      "metadata": {
        "id": "o1G2ZR0Sw5ld"
      },
      "source": [
        "from sklearn.metrics import roc_curve"
      ],
      "execution_count": 13,
      "outputs": []
    },
    {
      "cell_type": "code",
      "metadata": {
        "id": "1_-2VLYixGZ7"
      },
      "source": [
        "def generate_probs(X, model=m):\n",
        "    return model.predict_proba(X)[:, 1]"
      ],
      "execution_count": 14,
      "outputs": []
    },
    {
      "cell_type": "code",
      "metadata": {
        "id": "D7ImbLMOxIju"
      },
      "source": [
        "def generate_roc(y, probs):\n",
        "    fpr, tpr, _ = roc_curve(y, probs)\n",
        "    return fpr, tpr"
      ],
      "execution_count": 15,
      "outputs": []
    },
    {
      "cell_type": "code",
      "metadata": {
        "id": "netchuDYxZGS"
      },
      "source": [
        "fpr_test, tpr_test = generate_roc(y_test, generate_probs(X_test))"
      ],
      "execution_count": 16,
      "outputs": []
    },
    {
      "cell_type": "code",
      "metadata": {
        "id": "Y1-tH3VLxbvT"
      },
      "source": [
        "fpr_train, tpr_train = generate_roc(y_train, generate_probs(X_train))"
      ],
      "execution_count": 17,
      "outputs": []
    },
    {
      "cell_type": "code",
      "metadata": {
        "colab": {
          "base_uri": "https://localhost:8080/",
          "height": 279
        },
        "id": "aL_XeQzPx0lW",
        "outputId": "226f367c-8b43-4908-a122-ffabb3dc289d"
      },
      "source": [
        "plt.plot(fpr_test, tpr_test,'-r')\n",
        "plt.plot(fpr_train, tpr_train,'-b')\n",
        "plt.xlabel('False Positive Rate')\n",
        "plt.ylabel('True Positive Rate')\n",
        "plt.legend(['Test','Training'])\n",
        "plt.plot([0, 1], [0, 1], color='navy', linestyle='-')\n",
        "plt.show()"
      ],
      "execution_count": 18,
      "outputs": [
        {
          "output_type": "display_data",
          "data": {
            "image/png": "[encoded data removed]",
            "text/plain": [
              "<Figure size 432x288 with 1 Axes>"
            ]
          },
          "metadata": {
            "needs_background": "light"
          }
        }
      ]
    },
    {
      "cell_type": "markdown",
      "metadata": {
        "id": "GANoJ5n_b8Ry"
      },
      "source": [
        "The above Roc cure interprets that, 1"
      ]
    },
    {
      "cell_type": "code",
      "metadata": {
        "colab": {
          "base_uri": "https://localhost:8080/"
        },
        "id": "_Z8J0Ye6x7Lu",
        "outputId": "f9f7c650-f71f-47a8-b01a-6892a892a5fc"
      },
      "source": [
        "from sklearn.metrics import roc_auc_score\n",
        "roc_auc_score(y_test, generate_probs(X_test))"
      ],
      "execution_count": 19,
      "outputs": [
        {
          "output_type": "execute_result",
          "data": {
            "text/plain": [
              "0.7861842105263157"
            ]
          },
          "metadata": {},
          "execution_count": 19
        }
      ]
    },
    {
      "cell_type": "markdown",
      "metadata": {
        "id": "6TknW0kqXC8H"
      },
      "source": [
        "#**Creating a Logistic Regression pipeline**"
      ]
    },
    {
      "cell_type": "markdown",
      "metadata": {
        "id": "f6ZCLijYXlpR"
      },
      "source": [
        "**Using liblnear solver**"
      ]
    },
    {
      "cell_type": "code",
      "metadata": {
        "id": "ue7Y5XDKyEhS"
      },
      "source": [
        "lg_pipe = modeling_pipeline = Pipeline([\n",
        "        ('scaler', StandardScaler()),\n",
        "         ('logreg', LogisticRegression(penalty='l2', solver='liblinear'))\n",
        "        ]\n",
        "    )"
      ],
      "execution_count": 20,
      "outputs": []
    },
    {
      "cell_type": "markdown",
      "metadata": {
        "id": "W_kpPSPgXlMz"
      },
      "source": [
        "##**Performing Grid search Cross validation**"
      ]
    },
    {
      "cell_type": "code",
      "metadata": {
        "id": "AlhYudXg0YHs"
      },
      "source": [
        "from sklearn.model_selection import GridSearchCV\n",
        "\n",
        "param_grid = [\n",
        "  {'logreg__C': [1, 10, 100, 1000]}\n",
        " ]\n",
        "\n",
        "gcv_results = GridSearchCV(estimator=lg_pipe, param_grid=param_grid, scoring='accuracy')\n",
        "gcv_results = gcv_results.fit(X_train, y_train)"
      ],
      "execution_count": 21,
      "outputs": []
    },
    {
      "cell_type": "code",
      "metadata": {
        "colab": {
          "base_uri": "https://localhost:8080/"
        },
        "id": "kLtdP9Ia5zpe",
        "outputId": "ff972f57-475a-4915-a061-e690c0b2d05a"
      },
      "source": [
        "gcv_results.cv_results_.keys()"
      ],
      "execution_count": 22,
      "outputs": [
        {
          "output_type": "execute_result",
          "data": {
            "text/plain": [
              "dict_keys(['mean_fit_time', 'std_fit_time', 'mean_score_time', 'std_score_time', 'param_logreg__C', 'params', 'split0_test_score', 'split1_test_score', 'split2_test_score', 'split3_test_score', 'split4_test_score', 'mean_test_score', 'std_test_score', 'rank_test_score'])"
            ]
          },
          "metadata": {},
          "execution_count": 22
        }
      ]
    },
    {
      "cell_type": "code",
      "metadata": {
        "colab": {
          "base_uri": "https://localhost:8080/"
        },
        "id": "vFeGa72U6OUJ",
        "outputId": "83331f2e-3b14-4ad4-8c1f-61fdd1464eb9"
      },
      "source": [
        "gcv_results.best_score_"
      ],
      "execution_count": 23,
      "outputs": [
        {
          "output_type": "execute_result",
          "data": {
            "text/plain": [
              "0.7714503816793893"
            ]
          },
          "metadata": {},
          "execution_count": 23
        }
      ]
    },
    {
      "cell_type": "code",
      "metadata": {
        "id": "fIfJSAhn6TVp",
        "colab": {
          "base_uri": "https://localhost:8080/"
        },
        "outputId": "0a9d11cf-9710-46ad-ed49-325089900458"
      },
      "source": [
        "gcv_results.best_params_"
      ],
      "execution_count": 24,
      "outputs": [
        {
          "output_type": "execute_result",
          "data": {
            "text/plain": [
              "{'logreg__C': 10}"
            ]
          },
          "metadata": {},
          "execution_count": 24
        }
      ]
    },
    {
      "cell_type": "code",
      "metadata": {
        "id": "2jETDrj_6VQA",
        "colab": {
          "base_uri": "https://localhost:8080/"
        },
        "outputId": "1a949078-7dc4-463e-e771-882a24dcf2de"
      },
      "source": [
        "gcv_results.best_estimator_"
      ],
      "execution_count": 25,
      "outputs": [
        {
          "output_type": "execute_result",
          "data": {
            "text/plain": [
              "Pipeline(memory=None,\n",
              "         steps=[('scaler',\n",
              "                 StandardScaler(copy=True, with_mean=True, with_std=True)),\n",
              "                ('logreg',\n",
              "                 LogisticRegression(C=10, class_weight=None, dual=False,\n",
              "                                    fit_intercept=True, intercept_scaling=1,\n",
              "                                    l1_ratio=None, max_iter=100,\n",
              "                                    multi_class='auto', n_jobs=None,\n",
              "                                    penalty='l2', random_state=None,\n",
              "                                    solver='liblinear', tol=0.0001, verbose=0,\n",
              "                                    warm_start=False))],\n",
              "         verbose=False)"
            ]
          },
          "metadata": {},
          "execution_count": 25
        }
      ]
    },
    {
      "cell_type": "markdown",
      "metadata": {
        "id": "OlbwYPRZXs1h"
      },
      "source": [
        "**Using sag solver**"
      ]
    },
    {
      "cell_type": "code",
      "metadata": {
        "id": "CQ-Qtb3Og0GK"
      },
      "source": [
        "lg_pipe = modeling_pipeline = Pipeline([\n",
        "        ('scaler', StandardScaler()),\n",
        "         ('logreg', LogisticRegression(penalty='l2', solver='sag'))\n",
        "        ]\n",
        "    )"
      ],
      "execution_count": 26,
      "outputs": []
    },
    {
      "cell_type": "code",
      "metadata": {
        "id": "iYmVLrrYg3IY"
      },
      "source": [
        "from sklearn.model_selection import GridSearchCV\n",
        "\n",
        "param_grid = [\n",
        "  {'logreg__C': [1, 10, 100, 1000]}\n",
        " ]\n",
        "\n",
        "gcv_results1 = GridSearchCV(estimator=lg_pipe, param_grid=param_grid, scoring='accuracy')\n",
        "gcv_results1 = gcv_results1.fit(X_train, y_train)"
      ],
      "execution_count": 27,
      "outputs": []
    },
    {
      "cell_type": "code",
      "metadata": {
        "colab": {
          "base_uri": "https://localhost:8080/"
        },
        "id": "S2Fe-Q8Ug-mo",
        "outputId": "6772b5ec-1b6e-436a-ce40-eb4a299d7472"
      },
      "source": [
        "gcv_results1.cv_results_.keys()"
      ],
      "execution_count": 28,
      "outputs": [
        {
          "output_type": "execute_result",
          "data": {
            "text/plain": [
              "dict_keys(['mean_fit_time', 'std_fit_time', 'mean_score_time', 'std_score_time', 'param_logreg__C', 'params', 'split0_test_score', 'split1_test_score', 'split2_test_score', 'split3_test_score', 'split4_test_score', 'mean_test_score', 'std_test_score', 'rank_test_score'])"
            ]
          },
          "metadata": {},
          "execution_count": 28
        }
      ]
    },
    {
      "cell_type": "code",
      "metadata": {
        "colab": {
          "base_uri": "https://localhost:8080/"
        },
        "id": "nj8sDz9OhBNh",
        "outputId": "fd1476c5-4a8b-424c-977c-49366aeeac5a"
      },
      "source": [
        "gcv_results1.best_score_"
      ],
      "execution_count": 29,
      "outputs": [
        {
          "output_type": "execute_result",
          "data": {
            "text/plain": [
              "0.7714503816793893"
            ]
          },
          "metadata": {},
          "execution_count": 29
        }
      ]
    },
    {
      "cell_type": "code",
      "metadata": {
        "colab": {
          "base_uri": "https://localhost:8080/"
        },
        "id": "QbCAPkOjhFR2",
        "outputId": "8b51c7a1-9056-4da5-ce8d-3f539439d385"
      },
      "source": [
        "gcv_results.best_params_"
      ],
      "execution_count": 30,
      "outputs": [
        {
          "output_type": "execute_result",
          "data": {
            "text/plain": [
              "{'logreg__C': 10}"
            ]
          },
          "metadata": {},
          "execution_count": 30
        }
      ]
    },
    {
      "cell_type": "code",
      "metadata": {
        "id": "WeooNUKAYe-d"
      },
      "source": [
        ""
      ],
      "execution_count": null,
      "outputs": []
    }
  ]
}